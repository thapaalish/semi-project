{
 "cells": [
  {
   "cell_type": "markdown",
   "id": "9605cf73",
   "metadata": {},
   "source": [
    "# Price Comparison System using Python Libraries"
   ]
  },
  {
   "cell_type": "markdown",
   "id": "3af31eec",
   "metadata": {},
   "source": [
    "# Installing required Libraries"
   ]
  },
  {
   "cell_type": "code",
   "execution_count": null,
   "id": "61d8a092",
   "metadata": {},
   "outputs": [],
   "source": [
    "!pip install pandas"
   ]
  },
  {
   "cell_type": "code",
   "execution_count": null,
   "id": "4224f9d1",
   "metadata": {},
   "outputs": [],
   "source": [
    "!pip install matplotlib"
   ]
  },
  {
   "cell_type": "code",
   "execution_count": null,
   "id": "9ba85b0f",
   "metadata": {},
   "outputs": [],
   "source": [
    "!pip install autoscraper"
   ]
  },
  {
   "cell_type": "markdown",
   "id": "8fd7235a",
   "metadata": {},
   "source": [
    "# Importing required Libraries"
   ]
  },
  {
   "cell_type": "code",
   "execution_count": 1,
   "id": "839f0502",
   "metadata": {},
   "outputs": [],
   "source": [
    "import pandas as pd\n",
    "import matplotlib.pyplot as plt\n",
    "from autoscraper import AutoScraper\n",
    "import csv\n",
    "import re"
   ]
  },
  {
   "cell_type": "markdown",
   "id": "983237cc",
   "metadata": {},
   "source": [
    "# Scrapping data from websites and storing in csv file."
   ]
  },
  {
   "cell_type": "code",
   "execution_count": 2,
   "id": "9acbe020",
   "metadata": {},
   "outputs": [
    {
     "name": "stdout",
     "output_type": "stream",
     "text": [
      "CSV file saved successfully.\n",
      "          Price                                              Model\n",
      "0    रु. 88,000  MSI Modern 14 B11M i5 10th Gen / Intel UHD / 8...\n",
      "1   रु. 112,000  MSI Modern 14 A11M i5 11th Gen / Iris Xe Graph...\n",
      "2   रु. 112,000  MSI Modern 15 A11M i5 11th Gen / Iris Xe Graph...\n",
      "3   रु. 130,000  MSI Summit B15 A11M i5 11th Gen / Iris Xe Grap...\n",
      "4   रु. 132,000  MSI Modern 15 A11SB i5 11th Gen / MX450 / 8GB ...\n",
      "5   रु. 136,000  MSI Modern 14 A10RB i7 10TH GEN/ 8GB RAM/ 512G...\n",
      "6   रु. 145,000  MSI GF63 Thin 10SCXR i7 10TH GEN / GTX 1650 / ...\n",
      "7   रु. 147,000  MSI Modern 15 A11SB i7 11th Gen / MX450 / 8GB ...\n",
      "8   रु. 160,000  MSI GF65 Thin 10SDR Gaming Laptop / i7-10750H ...\n",
      "9   रु. 180,000  MSI GF65 Thin 10UE Gaming Laptop / i7-10750H /...\n",
      "10  रु. 192,000  MSI GL65 Leopard 10SDR Gaming Laptop / i7-1075...\n",
      "11  रु. 243,500  MSI Prestige 15 A11SCX i7 11th Gen / GTX 1650 ...\n"
     ]
    }
   ],
   "source": [
    "def automate_scraper(zozohub_url, wanted_list):\n",
    "    try:\n",
    "        scraper = AutoScraper()\n",
    "        scraper.load('zozohub-search')\n",
    "    except FileNotFoundError:\n",
    "        scraper = AutoScraper()\n",
    "\n",
    "    new_results = scraper.get_result_similar(zozohub_url, grouped=True)\n",
    "\n",
    "    if not scraper.get_result_similar(zozohub_url, grouped=True) == new_results:\n",
    "        rule_names = [f'rule_{i}' for i in range(len(wanted_list))]\n",
    "        rules = dict(zip(rule_names, wanted_list))\n",
    "        scraper.build(zozohub_url, rules)\n",
    "\n",
    "        rule_aliases = {rule_name: alias for rule_name, alias in zip(rule_names, wanted_list)}\n",
    "        scraper.set_rule_aliases(rule_aliases)\n",
    "        scraper.keep_rules(rule_names)\n",
    "\n",
    "        scraper.save('zozohub-search')\n",
    "\n",
    "    return scraper.get_result_similar(zozohub_url, grouped=True)\n",
    "\n",
    "zozohub_url = \"https://zozohub.com/laptops/laptops-by-brand/msi\"\n",
    "wanted_list = [\"रु. 88,000\", 'MSI Modern 14 B11M i5 10th Gen / Intel UHD / 8GB RAM / 512GB SSD / 14\" FHD Display']\n",
    "\n",
    "results = automate_scraper(zozohub_url, wanted_list)\n",
    "\n",
    "price = results['rule_m7iu']\n",
    "models = results['rule_nlb8']\n",
    "\n",
    "data = list(zip(price, models))\n",
    "\n",
    "with open('zozohub.csv', 'w', newline='', encoding='utf-8') as csvfile:\n",
    "    csv_writer = csv.writer(csvfile)\n",
    "    csv_writer.writerow(['Price', 'Model'])\n",
    "    csv_writer.writerows(data)\n",
    "\n",
    "print(\"CSV file saved successfully.\")\n",
    "\n",
    "file_path = 'zozohub.csv'\n",
    "data = pd.read_csv(file_path)\n",
    "print(data)"
   ]
  },
  {
   "cell_type": "code",
   "execution_count": 3,
   "id": "ad5c9382",
   "metadata": {},
   "outputs": [
    {
     "name": "stdout",
     "output_type": "stream",
     "text": [
      "CSV file saved successfully.\n",
      "           Price                                              Model\n",
      "0   NPR81,000.00  MSI Modern 15 A4SX Ryzen 5 4500U / AMD Radeon ...\n",
      "1   NPR85,000.00  MSI Modern 15 A5M Ryzen 5 5500U / AMD Radeon G...\n",
      "2   NPR95,000.00  MSI Modern 14 C12M 2022 i5 12TH GEN / 512GB SS...\n",
      "3   NPR99,000.00  MSI Modern 14 B4MW Ryzen 7 4700U / 8GB RAM / 2...\n",
      "4   NPR99,000.00  MSI GF63 9SCSR i5 9TH GEN/ 8GB RAM/ 256GB SSD ...\n",
      "5  NPR105,000.00  MSI GF63 Thin 10SC i5 10TH GEN / GTX 1650 / 8G...\n",
      "6  NPR115,000.00  MSI Thin GF63 12HW i5 12th Gen / Intel Arc A37...\n",
      "7  NPR115,000.00  MSI Modern 15 B13M 2023 i5 13TH GEN / 512GB SS...\n",
      "8  NPR115,000.00  MSI Summit B15 A11M  i5 11th Gen / 8GB RAM / I...\n",
      "9  NPR120,000.00  MSI Modern 15 A11SB i5 11th Gen / GeForce MX45...\n"
     ]
    }
   ],
   "source": [
    "def automate_scraper(itti_url, wanted_list2):\n",
    "    try:\n",
    "        scraper = AutoScraper()\n",
    "        scraper.load('itti-search')\n",
    "    except FileNotFoundError:\n",
    "        scraper = AutoScraper()\n",
    "\n",
    "    new_results2 = scraper.get_result_similar(itti_url, grouped=True)\n",
    "\n",
    "    if not scraper.get_result_similar(itti_url, grouped=True) == new_results2:\n",
    "        rule_names = [f'rule_{i}' for i in range(len(wanted_list2))]\n",
    "        rules = dict(zip(rule_names, wanted_list2))\n",
    "        scraper.build(itti_url, rules)\n",
    "\n",
    "        rule_aliases = {rule_name: alias for rule_name, alias in zip(rule_names, wanted_list2)}\n",
    "        scraper.set_rule_aliases(rule_aliases)\n",
    "        scraper.keep_rules(rule_names)\n",
    "\n",
    "        scraper.save('itti-search')\n",
    "\n",
    "    return scraper.get_result_similar(itti_url, grouped=True)\n",
    "\n",
    "itti_url = \"https://itti.com.np/laptops-by-brands/msi-laptops-nepal\"\n",
    "wanted_list2 = [\"NPR81,000.00\",'MSI Modern 15 A4SX Ryzen 5 4500U / AMD Radeon Graphics / 8GB RAM / 512GB SSD / 15.6\" FHD Display']\n",
    "\n",
    "results2 = automate_scraper(itti_url, wanted_list2)\n",
    "\n",
    "prices_itti = results2['rule_w6bh']\n",
    "models_itti = results2['rule_p22l']\n",
    "\n",
    "data_itti = list(zip(prices_itti, models_itti))\n",
    "\n",
    "with open('itti.csv', 'w', newline='', encoding='utf-8') as csvfile:\n",
    "    csv_writer = csv.writer(csvfile)\n",
    "    csv_writer.writerow(['Price', 'Model'])\n",
    "    csv_writer.writerows(data_itti)\n",
    "\n",
    "print(\"CSV file saved successfully.\")\n",
    "\n",
    "file_path = 'itti.csv'\n",
    "data = pd.read_csv(file_path)\n",
    "print(data)"
   ]
  },
  {
   "cell_type": "markdown",
   "id": "490f06ac",
   "metadata": {},
   "source": [
    "# Cleaning data stored in csv file"
   ]
  },
  {
   "cell_type": "code",
   "execution_count": 4,
   "id": "e006518f",
   "metadata": {},
   "outputs": [
    {
     "name": "stdout",
     "output_type": "stream",
     "text": [
      "           Price                                Model  \\\n",
      "0   NPR81,000.00     MSI Modern 15 A4SX Ryzen 5 4500U   \n",
      "1   NPR85,000.00      MSI Modern 15 A5M Ryzen 5 5500U   \n",
      "2   NPR95,000.00  MSI Modern 14 C12M 2022 i5 12TH GEN   \n",
      "3   NPR99,000.00     MSI Modern 14 B4MW Ryzen 7 4700U   \n",
      "4   NPR99,000.00            MSI GF63 9SCSR i5 9TH GEN   \n",
      "5  NPR105,000.00       MSI GF63 Thin 10SC i5 10TH GEN   \n",
      "6  NPR115,000.00       MSI Thin GF63 12HW i5 12th Gen   \n",
      "7  NPR115,000.00  MSI Modern 15 B13M 2023 i5 13TH GEN   \n",
      "8  NPR115,000.00     MSI Summit B15 A11M  i5 11th Gen   \n",
      "9  NPR120,000.00      MSI Modern 15 A11SB i5 11th Gen   \n",
      "\n",
      "                                               Specs  \n",
      "0  AMD Radeon Graphics/8GB RAM/512GB SSD/15.6\" FH...  \n",
      "1  AMD Radeon Graphics/8GB RAM/256GB SSD/15.6\" FH...  \n",
      "2          512GB SSD/8GB RAM/14\" FHD/2 Year Warranty  \n",
      "3                  8GB RAM/256GB SSD/14\" FHD Display  \n",
      "4       8GB RAM/256GB SSD/GTX 1650TI/15.6\" FHD 144Hz  \n",
      "5  GTX 1650/8GB RAM/256GB SSD/15.6\" FHD Display/B...  \n",
      "6  Intel Arc A370M 4GB DDR6/8GB RAM/512GB SSD/15....  \n",
      "7        512GB SSD/8GB RAM/15.6\" FHD/2 Year Warranty  \n",
      "8        8GB RAM/Iris Xe/512GB SSD/15.6\" FHD Display  \n",
      "9          GeForce MX450/8GB RAM/512GB SSD/15.6\" FHD  \n"
     ]
    }
   ],
   "source": [
    "cleaned_data = []\n",
    "\n",
    "with open('itti.csv', 'r', encoding='utf-8') as file:\n",
    "    csv_reader = csv.reader(file)\n",
    "    next(csv_reader) \n",
    "    for row in csv_reader:\n",
    "        price = row[0].strip('\"')\n",
    "        model_specs = row[1].strip('\"')\n",
    "\n",
    "        parts = [s.strip() for s in model_specs.split('/')]\n",
    "        if len(parts) >= 2:\n",
    "            model = parts[0]\n",
    "            specs = '/'.join(parts[1:])\n",
    "            cleaned_data.append((price, model, specs))\n",
    "        else:\n",
    "            cleaned_data.append((price, model_specs, ''))\n",
    "\n",
    "with open('cleaned_itti.csv', 'w', newline='', encoding='utf-8') as file:\n",
    "    csv_writer = csv.writer(file)\n",
    "    csv_writer.writerow(['Price', 'Model', 'Specs'])\n",
    "    for entry in cleaned_data:\n",
    "        csv_writer.writerow(entry)\n",
    "\n",
    "file_path = 'cleaned_itti.csv'\n",
    "data = pd.read_csv(file_path)\n",
    "print(data)"
   ]
  },
  {
   "cell_type": "code",
   "execution_count": 5,
   "id": "80aa5aaf",
   "metadata": {},
   "outputs": [
    {
     "name": "stdout",
     "output_type": "stream",
     "text": [
      "         Price                                 Model  \\\n",
      "0    NPR88,000        MSI Modern 14 B11M i5 10th Gen   \n",
      "1   NPR112,000        MSI Modern 14 A11M i5 11th Gen   \n",
      "2   NPR112,000        MSI Modern 15 A11M i5 11th Gen   \n",
      "3   NPR130,000       MSI Summit B15 A11M i5 11th Gen   \n",
      "4   NPR132,000       MSI Modern 15 A11SB i5 11th Gen   \n",
      "5   NPR136,000       MSI Modern 14 A10RB i7 10TH GEN   \n",
      "6   NPR145,000      MSI GF63 Thin 10SCXR i7 10TH GEN   \n",
      "7   NPR147,000       MSI Modern 15 A11SB i7 11th Gen   \n",
      "8   NPR160,000     MSI GF65 Thin 10SDR Gaming Laptop   \n",
      "9   NPR180,000      MSI GF65 Thin 10UE Gaming Laptop   \n",
      "10  NPR192,000  MSI GL65 Leopard 10SDR Gaming Laptop   \n",
      "11  NPR243,500    MSI Prestige 15 A11SCX i7 11th Gen   \n",
      "\n",
      "                                                Specs  \n",
      "0         Intel UHD/8GB RAM/512GB SSD/14\" FHD Display  \n",
      "1   Iris Xe Graphics/8GB RAM/512GB SSD/14\" FHD Dis...  \n",
      "2   Iris Xe Graphics/8GB RAM/512GB SSD/15.6\" FHD D...  \n",
      "3   Iris Xe Graphics/8GB RAM/512GB SSD/15.6\" FHD D...  \n",
      "4           MX450/8GB RAM/512GB SSD/15.6\" FHD Display  \n",
      "5                   8GB RAM/512GB SSD/MX250/15.6\" FHD  \n",
      "6                GTX 1650/8GB RAM/512GB SSD/15.6\" FHD  \n",
      "7           MX450/8GB RAM/512GB SSD/15.6\" FHD Display  \n",
      "8   i7-10750H/GTX 1660 Ti/8GB RAM/512GB SSD/15.6\" ...  \n",
      "9   i7-10750H/RTX 3060/8GB RAM/512GB SSD/15.6\" FHD...  \n",
      "10  i7-10750H/GTX 1660 Ti/16GB RAM/512GB SSD/15.6\"...  \n",
      "11     GTX 1650 Ti/16GB RAM/1TB SSD/15.6\" FHD Display  \n"
     ]
    }
   ],
   "source": [
    "cleaned_data = []\n",
    "\n",
    "with open('zozohub.csv', 'r', encoding='utf-8') as file:\n",
    "    csv_reader = csv.reader(file)\n",
    "    next(csv_reader)\n",
    "    for row in csv_reader:\n",
    "        price = row[0].strip('\"').replace('रु. ', 'NPR')\n",
    "        model_specs = row[1].strip('\"')\n",
    "\n",
    "        parts = [s.strip() for s in model_specs.split('/')]\n",
    "        if len(parts) >= 2:\n",
    "            model = parts[0]\n",
    "            specs = '/'.join(parts[1:])\n",
    "            cleaned_data.append((price, model, specs))\n",
    "        else:\n",
    "            cleaned_data.append((price, model_specs, ''))\n",
    "\n",
    "with open('cleaned_zozohub.csv', 'w', newline='', encoding='utf-8') as file:\n",
    "    csv_writer = csv.writer(file)\n",
    "    csv_writer.writerow(['Price', 'Model', 'Specs'])\n",
    "    for entry in cleaned_data:\n",
    "        csv_writer.writerow(entry)\n",
    "\n",
    "file_path = 'cleaned_zozohub.csv'\n",
    "data = pd.read_csv(file_path)\n",
    "print(data)\n"
   ]
  },
  {
   "cell_type": "markdown",
   "id": "39640f20",
   "metadata": {},
   "source": [
    "# Comparison"
   ]
  },
  {
   "cell_type": "code",
   "execution_count": 6,
   "id": "a545d52a",
   "metadata": {},
   "outputs": [
    {
     "name": "stdin",
     "output_type": "stream",
     "text": [
      "Enter a model to search for:  msi\n"
     ]
    },
    {
     "name": "stdout",
     "output_type": "stream",
     "text": [
      "Model found in Zozohub:\n",
      "Price: NPR 88000.0\n",
      "Model: MSI Modern 14 B11M i5 10th Gen\n",
      "Specs: Intel UHD/8GB RAM/512GB SSD/14\" FHD Display\n",
      "\n",
      "Model found in Itti:\n",
      "Price: NPR 81000.0\n",
      "Model: MSI Modern 15 A4SX Ryzen 5 4500U\n",
      "Specs: AMD Radeon Graphics/8GB RAM/512GB SSD/15.6\" FHD Display\n",
      "\n",
      "Price Difference: NPR 7000.0\n"
     ]
    },
    {
     "data": {
      "image/png": "[encoded data removed]",
      "text/plain": [
       "<Figure size 640x480 with 1 Axes>"
      ]
     },
     "metadata": {},
     "output_type": "display_data"
    }
   ],
   "source": [
    "def preprocess_price(price_str):\n",
    "    return float(re.sub(r'[^\\d.]', '', price_str))\n",
    "\n",
    "def search_model_in_csv(filename, model_to_search):\n",
    "    with open(filename, 'r', encoding='utf-8') as file:\n",
    "        csv_reader = csv.reader(file)\n",
    "        next(csv_reader)\n",
    "        for row in csv_reader:\n",
    "            price = preprocess_price(row[0])\n",
    "            model = row[1]\n",
    "            specs = row[2]\n",
    "\n",
    "            if model_to_search.lower() in model.lower():\n",
    "                return price, model, specs\n",
    "        return None, None, None\n",
    "\n",
    "def main():\n",
    "    model_to_search = input(\"Enter a model to search for: \")\n",
    "\n",
    "    zozohub_price, zozohub_model, zozohub_specs = search_model_in_csv('cleaned_zozohub.csv', model_to_search)\n",
    "    itti_price, itti_model, itti_specs = search_model_in_csv('cleaned_itti.csv', model_to_search)\n",
    "    \n",
    "    if zozohub_price and itti_price:\n",
    "        print(\"Model found in Zozohub:\")\n",
    "        print(\"Price: NPR\", zozohub_price)\n",
    "        print(\"Model:\", zozohub_model)\n",
    "        print(\"Specs:\", zozohub_specs)\n",
    "        \n",
    "        print(\"\\nModel found in Itti:\")\n",
    "        print(\"Price: NPR\", itti_price)\n",
    "        print(\"Model:\", itti_model)\n",
    "        print(\"Specs:\", itti_specs)\n",
    "        \n",
    "        price_difference = abs(zozohub_price - itti_price)\n",
    "        print(\"\\nPrice Difference: NPR\", price_difference)\n",
    "        \n",
    "    elif zozohub_price:\n",
    "        print(\"Model found in Zozohub:\")\n",
    "        print(\"Price: NPR\", zozohub_price)\n",
    "        print(\"Model:\", zozohub_model)\n",
    "        print(\"Specs:\", zozohub_specs)\n",
    "        \n",
    "        print(\"Model not found in Itti.\")\n",
    "        \n",
    "    elif itti_price:\n",
    "        print(\"Model found in Itti:\")\n",
    "        print(\"Price: NPR\", itti_price)\n",
    "        print(\"Model:\", itti_model)\n",
    "        print(\"Specs:\", itti_specs)\n",
    "        \n",
    "        print(\"Model not found in Zozohub.\")\n",
    "        \n",
    "    else:\n",
    "        print(\"Model not found in both stores.\")\n",
    "    \n",
    "    max_price = max(zozohub_price, itti_price) if zozohub_price and itti_price else zozohub_price or itti_price\n",
    "    max_price += 100\n",
    "    \n",
    "    if zozohub_price and itti_price:\n",
    "        plt.bar(['Zozohub', 'Itti'], [zozohub_price, itti_price], color=['red', 'blue'])\n",
    "    elif zozohub_price:\n",
    "        plt.bar(['Zozohub'], [zozohub_price], color=['red'])\n",
    "    elif itti_price:\n",
    "        plt.bar(['Itti'], [itti_price], color=['blue'])\n",
    "    else:\n",
    "        plt.bar([], [])\n",
    "    \n",
    "    plt.xlabel('Store')\n",
    "    plt.ylabel('Price in NPR')\n",
    "    plt.title('Price Comparison')\n",
    "    plt.ylim(0, max_price)\n",
    "    plt.show()\n",
    "\n",
    "if __name__ == \"__main__\":\n",
    "    main()\n"
   ]
  },
  {
   "cell_type": "markdown",
   "id": "040fa3f6",
   "metadata": {},
   "source": [
    "# Thank You!"
   ]
  },
  {
   "cell_type": "code",
   "execution_count": null,
   "id": "7da92370-c661-48b4-9db3-bae041d1369e",
   "metadata": {},
   "outputs": [],
   "source": []
  }
 ],
 "metadata": {
  "kernelspec": {
   "display_name": "Python 3 (ipykernel)",
   "language": "python",
   "name": "python3"
  },
  "language_info": {
   "codemirror_mode": {
    "name": "ipython",
    "version": 3
   },
   "file_extension": ".py",
   "mimetype": "text/x-python",
   "name": "python",
   "nbconvert_exporter": "python",
   "pygments_lexer": "ipython3",
   "version": "3.11.4"
  }
 },
 "nbformat": 4,
 "nbformat_minor": 5
}
